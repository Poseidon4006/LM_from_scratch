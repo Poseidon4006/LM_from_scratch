{
 "cells": [
  {
   "cell_type": "code",
   "execution_count": 1,
   "id": "0ae439fc-c834-4310-8f21-de9d30a49504",
   "metadata": {},
   "outputs": [
    {
     "name": "stdout",
     "output_type": "stream",
     "text": [
      "Collecting git+https://github.com/huggingface/transformers\n",
      "  Cloning https://github.com/huggingface/transformers to /tmp/pip-req-build-jsxmzho9\n",
      "  Running command git clone --filter=blob:none --quiet https://github.com/huggingface/transformers /tmp/pip-req-build-jsxmzho9\n",
      "  Resolved https://github.com/huggingface/transformers to commit 3cefac1d974db5e2825a0cb2b842883a628be7a0\n",
      "  Installing build dependencies ... \u001b[?25ldone\n",
      "\u001b[?25h  Getting requirements to build wheel ... \u001b[?25ldone\n",
      "\u001b[?25h  Preparing metadata (pyproject.toml) ... \u001b[?25ldone\n",
      "\u001b[?25hRequirement already satisfied: filelock in /home/user1/miniconda3/envs/trLLM/lib/python3.11/site-packages (from transformers==4.37.0.dev0) (3.13.1)\n",
      "Requirement already satisfied: huggingface-hub<1.0,>=0.19.3 in /home/user1/miniconda3/envs/trLLM/lib/python3.11/site-packages (from transformers==4.37.0.dev0) (0.20.1)\n",
      "Requirement already satisfied: numpy>=1.17 in /home/user1/miniconda3/envs/trLLM/lib/python3.11/site-packages (from transformers==4.37.0.dev0) (1.26.2)\n",
      "Requirement already satisfied: packaging>=20.0 in /home/user1/miniconda3/envs/trLLM/lib/python3.11/site-packages (from transformers==4.37.0.dev0) (23.2)\n",
      "Requirement already satisfied: pyyaml>=5.1 in /home/user1/miniconda3/envs/trLLM/lib/python3.11/site-packages (from transformers==4.37.0.dev0) (6.0.1)\n",
      "Requirement already satisfied: regex!=2019.12.17 in /home/user1/miniconda3/envs/trLLM/lib/python3.11/site-packages (from transformers==4.37.0.dev0) (2023.12.25)\n",
      "Requirement already satisfied: requests in /home/user1/miniconda3/envs/trLLM/lib/python3.11/site-packages (from transformers==4.37.0.dev0) (2.31.0)\n",
      "Requirement already satisfied: tokenizers<0.19,>=0.14 in /home/user1/miniconda3/envs/trLLM/lib/python3.11/site-packages (from transformers==4.37.0.dev0) (0.15.0)\n",
      "Requirement already satisfied: safetensors>=0.3.1 in /home/user1/miniconda3/envs/trLLM/lib/python3.11/site-packages (from transformers==4.37.0.dev0) (0.4.1)\n",
      "Requirement already satisfied: tqdm>=4.27 in /home/user1/miniconda3/envs/trLLM/lib/python3.11/site-packages (from transformers==4.37.0.dev0) (4.66.1)\n",
      "Requirement already satisfied: fsspec>=2023.5.0 in /home/user1/miniconda3/envs/trLLM/lib/python3.11/site-packages (from huggingface-hub<1.0,>=0.19.3->transformers==4.37.0.dev0) (2023.12.2)\n",
      "Requirement already satisfied: typing-extensions>=3.7.4.3 in /home/user1/miniconda3/envs/trLLM/lib/python3.11/site-packages (from huggingface-hub<1.0,>=0.19.3->transformers==4.37.0.dev0) (4.7.1)\n",
      "Requirement already satisfied: charset-normalizer<4,>=2 in /home/user1/miniconda3/envs/trLLM/lib/python3.11/site-packages (from requests->transformers==4.37.0.dev0) (2.0.4)\n",
      "Requirement already satisfied: idna<4,>=2.5 in /home/user1/miniconda3/envs/trLLM/lib/python3.11/site-packages (from requests->transformers==4.37.0.dev0) (3.4)\n",
      "Requirement already satisfied: urllib3<3,>=1.21.1 in /home/user1/miniconda3/envs/trLLM/lib/python3.11/site-packages (from requests->transformers==4.37.0.dev0) (1.26.18)\n",
      "Requirement already satisfied: certifi>=2017.4.17 in /home/user1/miniconda3/envs/trLLM/lib/python3.11/site-packages (from requests->transformers==4.37.0.dev0) (2023.11.17)\n"
     ]
    }
   ],
   "source": [
    "!pip install git+https://github.com/huggingface/transformers\n"
   ]
  },
  {
   "cell_type": "code",
   "execution_count": 2,
   "id": "834cd3e9-a1ad-49d5-9929-9d063528eea9",
   "metadata": {},
   "outputs": [
    {
     "name": "stdout",
     "output_type": "stream",
     "text": [
      "tokenizers         0.15.0\n",
      "transformers       4.37.0.dev0\n"
     ]
    }
   ],
   "source": [
    "!pip list | grep -E 'transformers|tokenizers'\n"
   ]
  },
  {
   "cell_type": "code",
   "execution_count": 2,
   "id": "3d4e5638-23af-4d8a-ba30-6b0d547ee90f",
   "metadata": {},
   "outputs": [
    {
     "ename": "ModuleNotFoundError",
     "evalue": "No module named 'tokenizers'",
     "output_type": "error",
     "traceback": [
      "\u001b[0;31m---------------------------------------------------------------------------\u001b[0m",
      "\u001b[0;31mModuleNotFoundError\u001b[0m                       Traceback (most recent call last)",
      "File \u001b[0;32m<timed exec>:3\u001b[0m\n",
      "\u001b[0;31mModuleNotFoundError\u001b[0m: No module named 'tokenizers'"
     ]
    }
   ],
   "source": [
    "%%time \n",
    "# from pathlib import Path\n",
    "\n",
    "from tokenizers import ByteLevelBPETokenizer\n",
    "\n",
    "# paths = '/home/user1/Documents/LLM_from_scratch/monolingual_Manipuri_v2.txt'\n",
    "\n",
    "# # Initialize tokenizer\n",
    "# tokenizer = ByteLevelBPETokenizer()\n",
    "\n",
    "# # Customize training\n",
    "# tokenizer.train(files=paths, vocab_size=52000, min_frequency=2, special_tokens=[\n",
    "#     \"<s>\",\n",
    "#     \"<pad>\",\n",
    "#     \"</s>\",\n",
    "#     \"<unk>\",\n",
    "#     \"<mask>\",\n",
    "# ])"
   ]
  },
  {
   "cell_type": "code",
   "execution_count": 9,
   "id": "28e06e4e-1ada-4402-a54d-fa1d9f3e6c25",
   "metadata": {},
   "outputs": [
    {
     "name": "stdout",
     "output_type": "stream",
     "text": [
      "Requirement already satisfied: tokenizers in /home/user1/miniconda3/envs/trLLM/lib/python3.11/site-packages (0.15.0)\n",
      "Requirement already satisfied: huggingface_hub<1.0,>=0.16.4 in /home/user1/miniconda3/envs/trLLM/lib/python3.11/site-packages (from tokenizers) (0.20.1)\n",
      "Requirement already satisfied: filelock in /home/user1/miniconda3/envs/trLLM/lib/python3.11/site-packages (from huggingface_hub<1.0,>=0.16.4->tokenizers) (3.13.1)\n",
      "Requirement already satisfied: fsspec>=2023.5.0 in /home/user1/miniconda3/envs/trLLM/lib/python3.11/site-packages (from huggingface_hub<1.0,>=0.16.4->tokenizers) (2023.12.2)\n",
      "Requirement already satisfied: requests in /home/user1/miniconda3/envs/trLLM/lib/python3.11/site-packages (from huggingface_hub<1.0,>=0.16.4->tokenizers) (2.31.0)\n",
      "Requirement already satisfied: tqdm>=4.42.1 in /home/user1/miniconda3/envs/trLLM/lib/python3.11/site-packages (from huggingface_hub<1.0,>=0.16.4->tokenizers) (4.66.1)\n",
      "Requirement already satisfied: pyyaml>=5.1 in /home/user1/miniconda3/envs/trLLM/lib/python3.11/site-packages (from huggingface_hub<1.0,>=0.16.4->tokenizers) (6.0.1)\n",
      "Requirement already satisfied: typing-extensions>=3.7.4.3 in /home/user1/miniconda3/envs/trLLM/lib/python3.11/site-packages (from huggingface_hub<1.0,>=0.16.4->tokenizers) (4.7.1)\n",
      "Requirement already satisfied: packaging>=20.9 in /home/user1/miniconda3/envs/trLLM/lib/python3.11/site-packages (from huggingface_hub<1.0,>=0.16.4->tokenizers) (23.2)\n",
      "Requirement already satisfied: charset-normalizer<4,>=2 in /home/user1/miniconda3/envs/trLLM/lib/python3.11/site-packages (from requests->huggingface_hub<1.0,>=0.16.4->tokenizers) (2.0.4)\n",
      "Requirement already satisfied: idna<4,>=2.5 in /home/user1/miniconda3/envs/trLLM/lib/python3.11/site-packages (from requests->huggingface_hub<1.0,>=0.16.4->tokenizers) (3.4)\n",
      "Requirement already satisfied: urllib3<3,>=1.21.1 in /home/user1/miniconda3/envs/trLLM/lib/python3.11/site-packages (from requests->huggingface_hub<1.0,>=0.16.4->tokenizers) (1.26.18)\n",
      "Requirement already satisfied: certifi>=2017.4.17 in /home/user1/miniconda3/envs/trLLM/lib/python3.11/site-packages (from requests->huggingface_hub<1.0,>=0.16.4->tokenizers) (2023.11.17)\n"
     ]
    }
   ],
   "source": [
    "!pip install tokenizers"
   ]
  },
  {
   "cell_type": "code",
   "execution_count": null,
   "id": "e03ca75f-d498-455d-b5f4-b64e5e0a299f",
   "metadata": {},
   "outputs": [],
   "source": []
  }
 ],
 "metadata": {
  "kernelspec": {
   "display_name": "Python 3 (ipykernel)",
   "language": "python",
   "name": "python3"
  },
  "language_info": {
   "codemirror_mode": {
    "name": "ipython",
    "version": 3
   },
   "file_extension": ".py",
   "mimetype": "text/x-python",
   "name": "python",
   "nbconvert_exporter": "python",
   "pygments_lexer": "ipython3",
   "version": "3.10.12"
  }
 },
 "nbformat": 4,
 "nbformat_minor": 5
}
